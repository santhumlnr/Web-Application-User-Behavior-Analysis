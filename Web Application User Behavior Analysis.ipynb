{
 "cells": [
  {
   "cell_type": "code",
   "execution_count": 2,
   "id": "c7a7082e",
   "metadata": {},
   "outputs": [],
   "source": [
    "import pandas as pd\n",
    "import matplotlib.pyplot as plt\n",
    "\n",
    "\n",
    "# Sample data (replace with actual data from your web application)\n",
    "\n",
    "data={\n",
    "    'user_id':[1,2,1,3,4,2,3],\n",
    "    \"page\": [\"home\", \"about\", \"contact\", \"home\", \"home\", \"about\", \"contact\"],\n",
    "    \"session_start\": [\"2025-01-01 10:00:00\", \"2025-01-01 10:05:00\", \"2025-01-01 10:15:00\", \n",
    "                      \"2025-01-01 11:00:00\", \"2025-01-01 11:10:00\", \"2025-01-01 11:20:00\", \n",
    "                      \"2025-01-01 11:30:00\"],\n",
    "    \"session_end\": [\"2025-01-01 10:10:00\", \"2025-01-01 10:15:00\", \"2025-01-01 10:25:00\", \n",
    "                    \"2025-01-01 11:10:00\", \"2025-01-01 11:20:00\", \"2025-01-01 11:30:00\", \n",
    "                    \"2025-01-01 11:40:00\"],\n",
    "}"
   ]
  },
  {
   "cell_type": "code",
   "execution_count": 3,
   "id": "5c907128",
   "metadata": {},
   "outputs": [],
   "source": [
    "# Convert data to a DataFrame\n",
    "df=pd.DataFrame(data)"
   ]
  },
  {
   "cell_type": "code",
   "execution_count": 4,
   "id": "7a0c08c8",
   "metadata": {},
   "outputs": [
    {
     "data": {
      "text/html": [
       "<div>\n",
       "<style scoped>\n",
       "    .dataframe tbody tr th:only-of-type {\n",
       "        vertical-align: middle;\n",
       "    }\n",
       "\n",
       "    .dataframe tbody tr th {\n",
       "        vertical-align: top;\n",
       "    }\n",
       "\n",
       "    .dataframe thead th {\n",
       "        text-align: right;\n",
       "    }\n",
       "</style>\n",
       "<table border=\"1\" class=\"dataframe\">\n",
       "  <thead>\n",
       "    <tr style=\"text-align: right;\">\n",
       "      <th></th>\n",
       "      <th>user_id</th>\n",
       "      <th>page</th>\n",
       "      <th>session_start</th>\n",
       "      <th>session_end</th>\n",
       "    </tr>\n",
       "  </thead>\n",
       "  <tbody>\n",
       "    <tr>\n",
       "      <th>0</th>\n",
       "      <td>1</td>\n",
       "      <td>home</td>\n",
       "      <td>2025-01-01 10:00:00</td>\n",
       "      <td>2025-01-01 10:10:00</td>\n",
       "    </tr>\n",
       "    <tr>\n",
       "      <th>1</th>\n",
       "      <td>2</td>\n",
       "      <td>about</td>\n",
       "      <td>2025-01-01 10:05:00</td>\n",
       "      <td>2025-01-01 10:15:00</td>\n",
       "    </tr>\n",
       "    <tr>\n",
       "      <th>2</th>\n",
       "      <td>1</td>\n",
       "      <td>contact</td>\n",
       "      <td>2025-01-01 10:15:00</td>\n",
       "      <td>2025-01-01 10:25:00</td>\n",
       "    </tr>\n",
       "    <tr>\n",
       "      <th>3</th>\n",
       "      <td>3</td>\n",
       "      <td>home</td>\n",
       "      <td>2025-01-01 11:00:00</td>\n",
       "      <td>2025-01-01 11:10:00</td>\n",
       "    </tr>\n",
       "    <tr>\n",
       "      <th>4</th>\n",
       "      <td>4</td>\n",
       "      <td>home</td>\n",
       "      <td>2025-01-01 11:10:00</td>\n",
       "      <td>2025-01-01 11:20:00</td>\n",
       "    </tr>\n",
       "  </tbody>\n",
       "</table>\n",
       "</div>"
      ],
      "text/plain": [
       "   user_id     page        session_start          session_end\n",
       "0        1     home  2025-01-01 10:00:00  2025-01-01 10:10:00\n",
       "1        2    about  2025-01-01 10:05:00  2025-01-01 10:15:00\n",
       "2        1  contact  2025-01-01 10:15:00  2025-01-01 10:25:00\n",
       "3        3     home  2025-01-01 11:00:00  2025-01-01 11:10:00\n",
       "4        4     home  2025-01-01 11:10:00  2025-01-01 11:20:00"
      ]
     },
     "execution_count": 4,
     "metadata": {},
     "output_type": "execute_result"
    }
   ],
   "source": [
    "df.head()"
   ]
  },
  {
   "cell_type": "code",
   "execution_count": 5,
   "id": "28cdbcc4",
   "metadata": {},
   "outputs": [
    {
     "data": {
      "text/html": [
       "<div>\n",
       "<style scoped>\n",
       "    .dataframe tbody tr th:only-of-type {\n",
       "        vertical-align: middle;\n",
       "    }\n",
       "\n",
       "    .dataframe tbody tr th {\n",
       "        vertical-align: top;\n",
       "    }\n",
       "\n",
       "    .dataframe thead th {\n",
       "        text-align: right;\n",
       "    }\n",
       "</style>\n",
       "<table border=\"1\" class=\"dataframe\">\n",
       "  <thead>\n",
       "    <tr style=\"text-align: right;\">\n",
       "      <th></th>\n",
       "      <th>user_id</th>\n",
       "      <th>page</th>\n",
       "      <th>session_start</th>\n",
       "      <th>session_end</th>\n",
       "    </tr>\n",
       "  </thead>\n",
       "  <tbody>\n",
       "    <tr>\n",
       "      <th>2</th>\n",
       "      <td>1</td>\n",
       "      <td>contact</td>\n",
       "      <td>2025-01-01 10:15:00</td>\n",
       "      <td>2025-01-01 10:25:00</td>\n",
       "    </tr>\n",
       "    <tr>\n",
       "      <th>3</th>\n",
       "      <td>3</td>\n",
       "      <td>home</td>\n",
       "      <td>2025-01-01 11:00:00</td>\n",
       "      <td>2025-01-01 11:10:00</td>\n",
       "    </tr>\n",
       "    <tr>\n",
       "      <th>4</th>\n",
       "      <td>4</td>\n",
       "      <td>home</td>\n",
       "      <td>2025-01-01 11:10:00</td>\n",
       "      <td>2025-01-01 11:20:00</td>\n",
       "    </tr>\n",
       "    <tr>\n",
       "      <th>5</th>\n",
       "      <td>2</td>\n",
       "      <td>about</td>\n",
       "      <td>2025-01-01 11:20:00</td>\n",
       "      <td>2025-01-01 11:30:00</td>\n",
       "    </tr>\n",
       "    <tr>\n",
       "      <th>6</th>\n",
       "      <td>3</td>\n",
       "      <td>contact</td>\n",
       "      <td>2025-01-01 11:30:00</td>\n",
       "      <td>2025-01-01 11:40:00</td>\n",
       "    </tr>\n",
       "  </tbody>\n",
       "</table>\n",
       "</div>"
      ],
      "text/plain": [
       "   user_id     page        session_start          session_end\n",
       "2        1  contact  2025-01-01 10:15:00  2025-01-01 10:25:00\n",
       "3        3     home  2025-01-01 11:00:00  2025-01-01 11:10:00\n",
       "4        4     home  2025-01-01 11:10:00  2025-01-01 11:20:00\n",
       "5        2    about  2025-01-01 11:20:00  2025-01-01 11:30:00\n",
       "6        3  contact  2025-01-01 11:30:00  2025-01-01 11:40:00"
      ]
     },
     "execution_count": 5,
     "metadata": {},
     "output_type": "execute_result"
    }
   ],
   "source": [
    "df.tail()"
   ]
  },
  {
   "cell_type": "code",
   "execution_count": 10,
   "id": "f2b27af1",
   "metadata": {},
   "outputs": [],
   "source": [
    "# Convert session_start and session_end to datetime\n",
    "\n",
    "df['session_start']=pd.to_datetime(df['session_start'])\n",
    "df['session_end']=pd.to_datetime(df['session_end'])"
   ]
  },
  {
   "cell_type": "code",
   "execution_count": 13,
   "id": "1e80012c",
   "metadata": {},
   "outputs": [],
   "source": [
    "# Calculate session duration\n",
    "\n",
    "df['session_duration'] = (df['session_end'] - df['session_start']).dt.total_seconds() / 60"
   ]
  },
  {
   "cell_type": "code",
   "execution_count": 14,
   "id": "eb399bce",
   "metadata": {},
   "outputs": [],
   "source": [
    "# Analyze most visited pages\n",
    "\n",
    "page_visits=df['page'].value_counts()"
   ]
  },
  {
   "cell_type": "code",
   "execution_count": 15,
   "id": "df3ed246",
   "metadata": {},
   "outputs": [],
   "source": [
    "# Analyze average session duration\n",
    "\n",
    "average_duration= df['session_duration'].mean()"
   ]
  },
  {
   "cell_type": "code",
   "execution_count": 18,
   "id": "5fb2fddd",
   "metadata": {},
   "outputs": [
    {
     "data": {
      "image/png": "[encoded data removed]",
      "text/plain": [
       "<Figure size 800x500 with 1 Axes>"
      ]
     },
     "metadata": {},
     "output_type": "display_data"
    }
   ],
   "source": [
    "# Visualization: Most visited pages\n",
    "\n",
    "plt.figure(figsize=(8,5))\n",
    "page_visits.plot(kind='bar', color='skyblue')\n",
    "plt.title(\"Most Visited Pages\")\n",
    "plt.xlabel(\"Page\")\n",
    "plt.ylabel(\"Number of Visits\")\n",
    "plt.xticks(rotation=0)\n",
    "plt.show()"
   ]
  },
  {
   "cell_type": "code",
   "execution_count": 22,
   "id": "ef74e3ea",
   "metadata": {},
   "outputs": [
    {
     "name": "stdout",
     "output_type": "stream",
     "text": [
      "User Engagement Analysis:\n",
      "------------------------------------------------------------\n",
      "Average Session Duration: 10.00minutes\n",
      "Page Visit Counts:\n",
      "page\n",
      "home       3\n",
      "about      2\n",
      "contact    2\n",
      "Name: count, dtype: int64\n"
     ]
    }
   ],
   "source": [
    "# Print insights\n",
    "\n",
    "print(\"User Engagement Analysis:\")\n",
    "print(\"--\" * 30)\n",
    "print(f\"Average Session Duration: {average_duration:.2f}minutes\")\n",
    "print(\"Page Visit Counts:\")\n",
    "print(page_visits)"
   ]
  },
  {
   "cell_type": "code",
   "execution_count": null,
   "id": "13b23378",
   "metadata": {},
   "outputs": [],
   "source": []
  }
 ],
 "metadata": {
  "kernelspec": {
   "display_name": "Python 3 (ipykernel)",
   "language": "python",
   "name": "python3"
  },
  "language_info": {
   "codemirror_mode": {
    "name": "ipython",
    "version": 3
   },
   "file_extension": ".py",
   "mimetype": "text/x-python",
   "name": "python",
   "nbconvert_exporter": "python",
   "pygments_lexer": "ipython3",
   "version": "3.11.5"
  }
 },
 "nbformat": 4,
 "nbformat_minor": 5
}
